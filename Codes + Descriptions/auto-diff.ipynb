{
 "cells": [
  {
   "cell_type": "code",
   "execution_count": 1,
   "id": "23672bb5",
   "metadata": {},
   "outputs": [],
   "source": [
    "import numpy as np\n",
    "#import process_edited as pce\n",
    "import process_GQ as pce\n",
    "import autoencoder as ae\n",
    "import diffusion as diff\n",
    "import TabDDPMdiff as TabDiff\n",
    "import pandas as pd\n",
    "import torch\n",
    "import os\n",
    "import time\n",
    "import numpy as np"
   ]
  },
  {
   "cell_type": "code",
   "execution_count": 2,
   "id": "274c5458",
   "metadata": {},
   "outputs": [
    {
     "data": {
      "text/plain": [
       "'C:\\\\Users\\\\Namjoon Suh\\\\Tabular_Data'"
      ]
     },
     "execution_count": 2,
     "metadata": {},
     "output_type": "execute_result"
    }
   ],
   "source": [
    "os.getcwd()"
   ]
  },
  {
   "cell_type": "code",
   "execution_count": null,
   "id": "f4075527",
   "metadata": {},
   "outputs": [
    {
     "name": "stdout",
     "output_type": "stream",
     "text": [
      "Real_Data/HTRU.csv\n"
     ]
    },
    {
     "data": {
      "application/vnd.jupyter.widget-view+json": {
       "model_id": "83651a4a852f437d9ab99c682ef1f6ba",
       "version_major": 2,
       "version_minor": 0
      },
      "text/plain": [
       "  0%|          | 0/10000 [00:00<?, ?it/s]"
      ]
     },
     "metadata": {},
     "output_type": "display_data"
    },
    {
     "data": {
      "application/vnd.jupyter.widget-view+json": {
       "model_id": "94f1fe659884470cb20453e5f00e15f6",
       "version_major": 2,
       "version_minor": 0
      },
      "text/plain": [
       "  0%|          | 0/10000 [00:00<?, ?it/s]"
      ]
     },
     "metadata": {},
     "output_type": "display_data"
    },
    {
     "name": "stderr",
     "output_type": "stream",
     "text": [
      "C:\\Users\\Namjoon Suh\\Tabular_Data\\TabDDPMdiff.py:270: UserWarning: To copy construct from a tensor, it is recommended to use sourceTensor.clone().detach() or sourceTensor.clone().detach().requires_grad_(True), rather than torch.tensor(sourceTensor).\n",
      "  t = torch.tensor(t)\n",
      "C:\\Users\\Namjoon Suh\\Tabular_Data\\TabDDPMdiff.py:276: UserWarning: To copy construct from a tensor, it is recommended to use sourceTensor.clone().detach() or sourceTensor.clone().detach().requires_grad_(True), rather than torch.tensor(sourceTensor).\n",
      "  t = torch.tensor(t)\n"
     ]
    }
   ],
   "source": [
    "strings_set = {'abalone', 'adult', 'Churn_Modelling','faults', 'indian_liver_patient', \n",
    "               'insurance', 'News', 'Obesity', 'Shoppers', 'Titanic', 'wilt', 'Bean', 'nursery', 'Magic', 'HTRU'}\n",
    "Model = 'AutoDiff'\n",
    "\n",
    "for string in strings_set:\n",
    "    filename = f'Real_Data/{string}.csv'\n",
    "    # Read dataframe\n",
    "    print(filename)\n",
    "    real_df = pd.read_csv(filename)\n",
    "    #real_df = real_df.drop('url', axis=1)\n",
    "    \n",
    "    threshold = 0.01 # Threshold for mixed-type variables\n",
    "    parser = pce.DataFrameParser().fit(real_df, threshold)\n",
    "\n",
    "    ################################################################################################################\n",
    "    # Auto-encoder hyper-parameters\n",
    "    device = 'cuda' #@param {'type':'string'}\n",
    "    n_epochs = 10000 #@param {'type':'integer'}\n",
    "    eps = 1e-5 #@param {type:\"number\"}\n",
    "    weight_decay = 1e-6 #@param {'type':'number'}\n",
    "    maximum_learning_rate = 1e-2 #@param {'type':'number'}\n",
    "    lr = 2e-4 #@param {'type':'number'}\n",
    "    hidden_size = 250\n",
    "    num_layers = 3\n",
    "    batch_size = 50\n",
    "\n",
    "    ds = ae.train_autoencoder(real_df, hidden_size, num_layers, lr, weight_decay, n_epochs, batch_size, threshold)\n",
    "    latent_features = ds[1].detach()\n",
    "\n",
    "    ################################################################################################################\n",
    "    # diffusion hyper-parameters\n",
    "    diff_n_epochs = 10000 #@param {'type':'integer'}\n",
    "    hidden_dims = (256, 512, 1024, 512, 256) #@param {type:\"raw\"}\n",
    "    converted_table_dim = latent_features.shape[1] #@param {'type':'integer'}\n",
    "    sigma = 20  #@param {'type':'integer'} \n",
    "    num_batches_per_epoch = 50 #@param {'type':'number'}\n",
    "    batch_size = 50 #@param {'type':'integer'}\n",
    "    T = 100  #@param {'type':'integer'}\n",
    "\n",
    "    score = TabDiff.train_diffusion(latent_features, T, eps, sigma, lr, \\\n",
    "                        num_batches_per_epoch, maximum_learning_rate, weight_decay, diff_n_epochs, batch_size)\n",
    "\n",
    "    ################################################################################################################\n",
    "    # Generate 10 fake tabular datasets\n",
    "    T = 300; N = latent_features.shape[0]; P = latent_features.shape[1]\n",
    "    \n",
    "    time_duration = []\n",
    "    \n",
    "    for i in range(1,11):\n",
    "        start_time = time.time()\n",
    "\n",
    "        sample = diff.Euler_Maruyama_sampling(score, T, N, P, device)\n",
    "\n",
    "        end_time = time.time()\n",
    "        duration = end_time - start_time\n",
    "\n",
    "        time_duration.append(duration)\n",
    "\n",
    "        gen_output = ds[0](sample, ds[2], ds[3])\n",
    "        syn_df = pce.convert_to_table(real_df, gen_output, threshold)\n",
    "        #syn_df['age'] = syn_df['age'].astype(int)\n",
    "\n",
    "        output_directory = os.getcwd()+f'/Synthetic_Data/{Model}/{string}/'\n",
    "        filename = f'{Model}_{string}{i}.csv'\n",
    "        sampling_time = f'{Model}_{string}_sampling_time.csv'\n",
    "\n",
    "        output_file = os.path.join(output_directory, filename)\n",
    "        time_file = os.path.join(output_directory, sampling_time)\n",
    "\n",
    "        syn_df.to_csv(output_file, index=False)\n",
    "\n",
    "        df = pd.DataFrame(time_duration, columns=[f'{Model}_{string}_sampling_time'])\n",
    "        df.to_csv(time_file, index=False)"
   ]
  },
  {
   "cell_type": "code",
   "execution_count": null,
   "id": "b45c33d0",
   "metadata": {},
   "outputs": [],
   "source": [
    "import numpy as np\n",
    "import pandas as pd\n",
    "\n",
    "string = 'HTRU'\n",
    "Model = 'AutoDiff'\n",
    "\n",
    "filename = f'Real_Data/{string}.csv'\n",
    "real_df = pd.read_csv(filename)\n",
    "syn_filename = f'Synthetic_Data/{Model}/{string}/{Model}_{string}{3}.csv'\n",
    "\n",
    "syn_df = pd.read_csv(syn_filename)\n",
    "\n",
    "syn_df"
   ]
  },
  {
   "cell_type": "code",
   "execution_count": 126,
   "id": "887d6b0d",
   "metadata": {
    "scrolled": false
   },
   "outputs": [
    {
     "data": {
      "image/png": "[encoded data removed]",
      "text/plain": [
       "<Figure size 500x400 with 1 Axes>"
      ]
     },
     "metadata": {},
     "output_type": "display_data"
    }
   ],
   "source": [
    "import numpy as np\n",
    "import pandas as pd\n",
    "import matplotlib.pyplot as plt\n",
    "\n",
    "#syn_df = pd.read_csv('AutoDiff_adult7.csv')\n",
    "# Plot Weight the categorical variables\n",
    "col = 'Age'\n",
    "\n",
    "#gen_output = ds[0](ds[1], ds[2], ds[3])\n",
    "#syn_df = pce.convert_to_table(real_df, gen_output, threshold)\n",
    "\n",
    "fig, axes = plt.subplots(nrows=1, ncols=1, figsize=(5, 4))\n",
    "axes.hist(real_df[col], bins=100, alpha=0.5, label='Real')\n",
    "axes.hist(syn_df[col], bins=100, alpha=0.5, label='Auto-Diff')\n",
    "plt.show()"
   ]
  },
  {
   "cell_type": "code",
   "execution_count": null,
   "id": "8eef5704",
   "metadata": {},
   "outputs": [],
   "source": [
    "real_df[col]"
   ]
  },
  {
   "cell_type": "code",
   "execution_count": 127,
   "id": "a29c71e2",
   "metadata": {},
   "outputs": [],
   "source": [
    "import zipfile\n",
    "import shutil\n",
    "path = \"C:\\\\Users\\\\Namjoon Suh\\\\Tabular_Data\\\\Synthetic_Data\\\\\"\n",
    "zip_file_name = \"TabAutoDiff.zip\"\n",
    "\n",
    "with zipfile.ZipFile(zip_file_name, \"w\") as zip_file:\n",
    "    for root, dirs, files in os.walk(path):\n",
    "        for file in files:\n",
    "            zip_file.write(os.path.join(root, file))"
   ]
  },
  {
   "cell_type": "code",
   "execution_count": 128,
   "id": "99ef2e47",
   "metadata": {},
   "outputs": [
    {
     "data": {
      "text/html": [
       "<a href='TabAutoDiff.zip' target='_blank'>TabAutoDiff.zip</a><br>"
      ],
      "text/plain": [
       "C:\\Users\\Namjoon Suh\\Tabular_Data\\TabAutoDiff.zip"
      ]
     },
     "metadata": {},
     "output_type": "display_data"
    }
   ],
   "source": [
    "from IPython.display import FileLink\n",
    "display(FileLink(zip_file_name))"
   ]
  },
  {
   "cell_type": "code",
   "execution_count": null,
   "id": "2b457ea1",
   "metadata": {},
   "outputs": [],
   "source": [
    "import os\n",
    "strings_set = {'abalone', 'adult', 'Bean', 'Churn_Modelling','faults', 'HTRU', 'indian_liver_patient', \n",
    "               'insurance', 'Magic', 'News', 'nursery', 'Obesity', 'Shoppers', 'Titanic', 'wilt'}\n",
    "\n",
    "for string in strings_set:\n",
    "    output_directory = f'Synthetic_Data/TabDDPM/{string}'\n",
    "    os.makedirs(output_directory)"
   ]
  }
 ],
 "metadata": {
  "kernelspec": {
   "display_name": "Python 3 (ipykernel)",
   "language": "python",
   "name": "python3"
  },
  "language_info": {
   "codemirror_mode": {
    "name": "ipython",
    "version": 3
   },
   "file_extension": ".py",
   "mimetype": "text/x-python",
   "name": "python",
   "nbconvert_exporter": "python",
   "pygments_lexer": "ipython3",
   "version": "3.9.13"
  }
 },
 "nbformat": 4,
 "nbformat_minor": 5
}
